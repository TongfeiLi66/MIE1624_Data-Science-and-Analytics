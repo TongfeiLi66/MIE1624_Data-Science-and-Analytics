{
 "cells": [
  {
   "cell_type": "code",
   "execution_count": 1,
   "id": "4ca68c3b",
   "metadata": {},
   "outputs": [],
   "source": [
    "# Import libraries and settings\n",
    "import pandas as pd\n",
    "import numpy as np\n",
    "from sklearn.model_selection import train_test_split\n",
    "from sklearn.linear_model import LogisticRegression\n",
    "from sklearn.preprocessing import StandardScaler\n",
    "from matplotlib.ticker import MaxNLocator\n",
    "from sklearn.metrics import roc_curve, auc\n",
    "from sklearn.metrics import accuracy_score\n",
    "from sklearn.metrics import f1_score\n",
    "import matplotlib\n",
    "import matplotlib.pyplot as plt\n",
    "from sklearn.model_selection import learning_curve\n",
    "from sklearn.metrics import confusion_matrix\n",
    "matplotlib.rcParams['figure.figsize'] = (5, 5)\n",
    "matplotlib.rcParams.update({'font.size': 10})\n",
    "import warnings\n",
    "warnings.filterwarnings(\"ignore\")\n",
    "from sklearn.model_selection import KFold\n",
    "from sklearn.utils import shuffle\n",
    "import seaborn as sns"
   ]
  },
  {
   "cell_type": "markdown",
   "id": "9a62e236",
   "metadata": {},
   "source": [
    "## Import Data"
   ]
  },
  {
   "cell_type": "code",
   "execution_count": 2,
   "id": "1c070859",
   "metadata": {},
   "outputs": [
    {
     "data": {
      "text/html": [
       "<div>\n",
       "<style scoped>\n",
       "    .dataframe tbody tr th:only-of-type {\n",
       "        vertical-align: middle;\n",
       "    }\n",
       "\n",
       "    .dataframe tbody tr th {\n",
       "        vertical-align: top;\n",
       "    }\n",
       "\n",
       "    .dataframe thead th {\n",
       "        text-align: right;\n",
       "    }\n",
       "</style>\n",
       "<table border=\"1\" class=\"dataframe\">\n",
       "  <thead>\n",
       "    <tr style=\"text-align: right;\">\n",
       "      <th></th>\n",
       "      <th>Area</th>\n",
       "      <th>MajorAxisLength</th>\n",
       "      <th>MinorAxisLength</th>\n",
       "      <th>Eccentricity</th>\n",
       "      <th>ConvexArea</th>\n",
       "      <th>Extent</th>\n",
       "      <th>Perimeter</th>\n",
       "      <th>Class</th>\n",
       "    </tr>\n",
       "  </thead>\n",
       "  <tbody>\n",
       "    <tr>\n",
       "      <th>0</th>\n",
       "      <td>87524</td>\n",
       "      <td>442.246011</td>\n",
       "      <td>253.291155</td>\n",
       "      <td>0.819738</td>\n",
       "      <td>90546</td>\n",
       "      <td>0.758651</td>\n",
       "      <td>1184.040</td>\n",
       "      <td>Kecimen</td>\n",
       "    </tr>\n",
       "    <tr>\n",
       "      <th>1</th>\n",
       "      <td>75166</td>\n",
       "      <td>406.690687</td>\n",
       "      <td>243.032436</td>\n",
       "      <td>0.801805</td>\n",
       "      <td>78789</td>\n",
       "      <td>0.684130</td>\n",
       "      <td>1121.786</td>\n",
       "      <td>Kecimen</td>\n",
       "    </tr>\n",
       "    <tr>\n",
       "      <th>2</th>\n",
       "      <td>90856</td>\n",
       "      <td>442.267048</td>\n",
       "      <td>266.328318</td>\n",
       "      <td>0.798354</td>\n",
       "      <td>93717</td>\n",
       "      <td>0.637613</td>\n",
       "      <td>1208.575</td>\n",
       "      <td>Kecimen</td>\n",
       "    </tr>\n",
       "    <tr>\n",
       "      <th>3</th>\n",
       "      <td>45928</td>\n",
       "      <td>286.540559</td>\n",
       "      <td>208.760042</td>\n",
       "      <td>0.684989</td>\n",
       "      <td>47336</td>\n",
       "      <td>0.699599</td>\n",
       "      <td>844.162</td>\n",
       "      <td>Kecimen</td>\n",
       "    </tr>\n",
       "    <tr>\n",
       "      <th>4</th>\n",
       "      <td>79408</td>\n",
       "      <td>352.190770</td>\n",
       "      <td>290.827533</td>\n",
       "      <td>0.564011</td>\n",
       "      <td>81463</td>\n",
       "      <td>0.792772</td>\n",
       "      <td>1073.251</td>\n",
       "      <td>Kecimen</td>\n",
       "    </tr>\n",
       "    <tr>\n",
       "      <th>...</th>\n",
       "      <td>...</td>\n",
       "      <td>...</td>\n",
       "      <td>...</td>\n",
       "      <td>...</td>\n",
       "      <td>...</td>\n",
       "      <td>...</td>\n",
       "      <td>...</td>\n",
       "      <td>...</td>\n",
       "    </tr>\n",
       "    <tr>\n",
       "      <th>895</th>\n",
       "      <td>83248</td>\n",
       "      <td>430.077308</td>\n",
       "      <td>247.838695</td>\n",
       "      <td>0.817263</td>\n",
       "      <td>85839</td>\n",
       "      <td>0.668793</td>\n",
       "      <td>1129.072</td>\n",
       "      <td>Besni</td>\n",
       "    </tr>\n",
       "    <tr>\n",
       "      <th>896</th>\n",
       "      <td>87350</td>\n",
       "      <td>440.735698</td>\n",
       "      <td>259.293149</td>\n",
       "      <td>0.808629</td>\n",
       "      <td>90899</td>\n",
       "      <td>0.636476</td>\n",
       "      <td>1214.252</td>\n",
       "      <td>Besni</td>\n",
       "    </tr>\n",
       "    <tr>\n",
       "      <th>897</th>\n",
       "      <td>99657</td>\n",
       "      <td>431.706981</td>\n",
       "      <td>298.837323</td>\n",
       "      <td>0.721684</td>\n",
       "      <td>106264</td>\n",
       "      <td>0.741099</td>\n",
       "      <td>1292.828</td>\n",
       "      <td>Besni</td>\n",
       "    </tr>\n",
       "    <tr>\n",
       "      <th>898</th>\n",
       "      <td>93523</td>\n",
       "      <td>476.344094</td>\n",
       "      <td>254.176054</td>\n",
       "      <td>0.845739</td>\n",
       "      <td>97653</td>\n",
       "      <td>0.658798</td>\n",
       "      <td>1258.548</td>\n",
       "      <td>Besni</td>\n",
       "    </tr>\n",
       "    <tr>\n",
       "      <th>899</th>\n",
       "      <td>85609</td>\n",
       "      <td>512.081774</td>\n",
       "      <td>215.271976</td>\n",
       "      <td>0.907345</td>\n",
       "      <td>89197</td>\n",
       "      <td>0.632020</td>\n",
       "      <td>1272.862</td>\n",
       "      <td>Besni</td>\n",
       "    </tr>\n",
       "  </tbody>\n",
       "</table>\n",
       "<p>900 rows × 8 columns</p>\n",
       "</div>"
      ],
      "text/plain": [
       "      Area  MajorAxisLength  MinorAxisLength  Eccentricity  ConvexArea  \\\n",
       "0    87524       442.246011       253.291155      0.819738       90546   \n",
       "1    75166       406.690687       243.032436      0.801805       78789   \n",
       "2    90856       442.267048       266.328318      0.798354       93717   \n",
       "3    45928       286.540559       208.760042      0.684989       47336   \n",
       "4    79408       352.190770       290.827533      0.564011       81463   \n",
       "..     ...              ...              ...           ...         ...   \n",
       "895  83248       430.077308       247.838695      0.817263       85839   \n",
       "896  87350       440.735698       259.293149      0.808629       90899   \n",
       "897  99657       431.706981       298.837323      0.721684      106264   \n",
       "898  93523       476.344094       254.176054      0.845739       97653   \n",
       "899  85609       512.081774       215.271976      0.907345       89197   \n",
       "\n",
       "       Extent  Perimeter    Class  \n",
       "0    0.758651   1184.040  Kecimen  \n",
       "1    0.684130   1121.786  Kecimen  \n",
       "2    0.637613   1208.575  Kecimen  \n",
       "3    0.699599    844.162  Kecimen  \n",
       "4    0.792772   1073.251  Kecimen  \n",
       "..        ...        ...      ...  \n",
       "895  0.668793   1129.072    Besni  \n",
       "896  0.636476   1214.252    Besni  \n",
       "897  0.741099   1292.828    Besni  \n",
       "898  0.658798   1258.548    Besni  \n",
       "899  0.632020   1272.862    Besni  \n",
       "\n",
       "[900 rows x 8 columns]"
      ]
     },
     "execution_count": 2,
     "metadata": {},
     "output_type": "execute_result"
    }
   ],
   "source": [
    "r_df = pd.read_excel('Raisin_Dataset.xlsx')\n",
    "r_df"
   ]
  },
  {
   "cell_type": "markdown",
   "id": "e2090c24",
   "metadata": {},
   "source": [
    "### We want binary response variable-> 0,1"
   ]
  },
  {
   "cell_type": "code",
   "execution_count": 3,
   "id": "df11f7ae",
   "metadata": {},
   "outputs": [
    {
     "data": {
      "text/html": [
       "<div>\n",
       "<style scoped>\n",
       "    .dataframe tbody tr th:only-of-type {\n",
       "        vertical-align: middle;\n",
       "    }\n",
       "\n",
       "    .dataframe tbody tr th {\n",
       "        vertical-align: top;\n",
       "    }\n",
       "\n",
       "    .dataframe thead th {\n",
       "        text-align: right;\n",
       "    }\n",
       "</style>\n",
       "<table border=\"1\" class=\"dataframe\">\n",
       "  <thead>\n",
       "    <tr style=\"text-align: right;\">\n",
       "      <th></th>\n",
       "      <th>Area</th>\n",
       "      <th>MajorAxisLength</th>\n",
       "      <th>MinorAxisLength</th>\n",
       "      <th>Eccentricity</th>\n",
       "      <th>ConvexArea</th>\n",
       "      <th>Extent</th>\n",
       "      <th>Perimeter</th>\n",
       "      <th>Class</th>\n",
       "    </tr>\n",
       "  </thead>\n",
       "  <tbody>\n",
       "    <tr>\n",
       "      <th>0</th>\n",
       "      <td>87524</td>\n",
       "      <td>442.246011</td>\n",
       "      <td>253.291155</td>\n",
       "      <td>0.819738</td>\n",
       "      <td>90546</td>\n",
       "      <td>0.758651</td>\n",
       "      <td>1184.040</td>\n",
       "      <td>0</td>\n",
       "    </tr>\n",
       "    <tr>\n",
       "      <th>1</th>\n",
       "      <td>75166</td>\n",
       "      <td>406.690687</td>\n",
       "      <td>243.032436</td>\n",
       "      <td>0.801805</td>\n",
       "      <td>78789</td>\n",
       "      <td>0.684130</td>\n",
       "      <td>1121.786</td>\n",
       "      <td>0</td>\n",
       "    </tr>\n",
       "    <tr>\n",
       "      <th>2</th>\n",
       "      <td>90856</td>\n",
       "      <td>442.267048</td>\n",
       "      <td>266.328318</td>\n",
       "      <td>0.798354</td>\n",
       "      <td>93717</td>\n",
       "      <td>0.637613</td>\n",
       "      <td>1208.575</td>\n",
       "      <td>0</td>\n",
       "    </tr>\n",
       "    <tr>\n",
       "      <th>3</th>\n",
       "      <td>45928</td>\n",
       "      <td>286.540559</td>\n",
       "      <td>208.760042</td>\n",
       "      <td>0.684989</td>\n",
       "      <td>47336</td>\n",
       "      <td>0.699599</td>\n",
       "      <td>844.162</td>\n",
       "      <td>0</td>\n",
       "    </tr>\n",
       "    <tr>\n",
       "      <th>4</th>\n",
       "      <td>79408</td>\n",
       "      <td>352.190770</td>\n",
       "      <td>290.827533</td>\n",
       "      <td>0.564011</td>\n",
       "      <td>81463</td>\n",
       "      <td>0.792772</td>\n",
       "      <td>1073.251</td>\n",
       "      <td>0</td>\n",
       "    </tr>\n",
       "  </tbody>\n",
       "</table>\n",
       "</div>"
      ],
      "text/plain": [
       "    Area  MajorAxisLength  MinorAxisLength  Eccentricity  ConvexArea  \\\n",
       "0  87524       442.246011       253.291155      0.819738       90546   \n",
       "1  75166       406.690687       243.032436      0.801805       78789   \n",
       "2  90856       442.267048       266.328318      0.798354       93717   \n",
       "3  45928       286.540559       208.760042      0.684989       47336   \n",
       "4  79408       352.190770       290.827533      0.564011       81463   \n",
       "\n",
       "     Extent  Perimeter  Class  \n",
       "0  0.758651   1184.040      0  \n",
       "1  0.684130   1121.786      0  \n",
       "2  0.637613   1208.575      0  \n",
       "3  0.699599    844.162      0  \n",
       "4  0.792772   1073.251      0  "
      ]
     },
     "execution_count": 3,
     "metadata": {},
     "output_type": "execute_result"
    }
   ],
   "source": [
    "class_encode = {\n",
    "    \"Kecimen\": 0,\n",
    "    \"Besni\": 1\n",
    "}\n",
    "r_df['Class'] = r_df['Class'].map(class_encode)\n",
    "r_df.head()"
   ]
  },
  {
   "cell_type": "code",
   "execution_count": 4,
   "id": "4f6acaa6",
   "metadata": {},
   "outputs": [],
   "source": [
    "# Separate inputs: X and output:y\n",
    "X = r_df.drop(['Class'], axis = 1)\n",
    "y = r_df['Class']"
   ]
  },
  {
   "cell_type": "code",
   "execution_count": 5,
   "id": "150c3a36",
   "metadata": {},
   "outputs": [],
   "source": [
    "# X, y = shuffle(X, y)\n",
    "# y"
   ]
  },
  {
   "cell_type": "code",
   "execution_count": 6,
   "id": "91612efe",
   "metadata": {},
   "outputs": [],
   "source": [
    "# # Create the instance of the scaler\n",
    "# scaler = StandardScaler()\n",
    "# # Transform the inputs X\n",
    "# X_train_scaled = scaler.fit_transform(X_train)\n",
    "# X_test_scaled = scaler.transform(X_test)\n",
    "# X_train_scaled.std(axis=0)"
   ]
  },
  {
   "cell_type": "code",
   "execution_count": null,
   "id": "71cfcc54",
   "metadata": {},
   "outputs": [],
   "source": []
  },
  {
   "cell_type": "code",
   "execution_count": 7,
   "id": "4376fd4e",
   "metadata": {},
   "outputs": [
    {
     "name": "stdout",
     "output_type": "stream",
     "text": [
      "{'C': 0.011421052631578946, 'solver': 'liblinear'}\n",
      "Best Score: 88.444%(7.523%)\n",
      "\n",
      "The optimal log model uses C=0.011421052631578946, and a liblinear solver, and has a cross validation score of 88.444% with a standard deviation of 7.523%\n"
     ]
    }
   ],
   "source": [
    "model = LogisticRegression()\n",
    "scaler = StandardScaler()\n",
    "kfold = KFold(n_splits=10)\n",
    "kfold.get_n_splits(X)\n",
    "\n",
    "best_model = model\n",
    "best_params = {}\n",
    "best_accuracy = 0\n",
    "best_std = 0\n",
    "\n",
    "bias_list = [] \n",
    "variance_list = [] \n",
    "Entropy_list = []\n",
    "\n",
    "for C in np.linspace(0.001, 0.1, 20):\n",
    "    for solver in ['liblinear','saga']:\n",
    "        \n",
    "        model = LogisticRegression(C=C, solver=solver,penalty='l1')\n",
    "        accuracy = np.zeros(10)\n",
    "        np_idx = 0\n",
    "        \n",
    "        Entropy_c = np.zeros(10)\n",
    "        bias_c = np.zeros(10)\n",
    "        variance_c = np.zeros(10)\n",
    "        \n",
    "        for train_idx, test_idx in kfold.split(X):\n",
    "            X_train, X_test = X.values[train_idx], X.values[test_idx]\n",
    "            y_train, y_test = y.values[train_idx], y.values[test_idx]\n",
    "\n",
    "            X_train = scaler.fit_transform(X_train)\n",
    "            X_test = scaler.transform(X_test)\n",
    "\n",
    "            model.fit(X_train, y_train)\n",
    "\n",
    "            predictions = model.predict(X_test)\n",
    "\n",
    "            ACC = accuracy_score(y_test, predictions, normalize = True)\n",
    "\n",
    "            accuracy[np_idx] = ACC*100\n",
    "            \n",
    "            np_idx += 1\n",
    "        \n",
    "        if np.mean(accuracy) > best_accuracy:\n",
    "            best_model = model\n",
    "            best_params = {'C':C, 'solver':solver}\n",
    "            best_accuracy = np.mean(accuracy)\n",
    "            best_std = np.std(accuracy)\n",
    "\n",
    "print (best_params)\n",
    "print (\"Best Score: {}%({}%)\".format(round(best_accuracy,3),round(best_std,3)))      \n",
    "\n",
    "print (\"\\nThe optimal log model uses C={}, and a {} solver, and has a cross validation score of {}% with a standard deviation of {}%\".format(best_params['C'],best_params['solver'],round(best_accuracy,3),round(best_std,3)))"
   ]
  },
  {
   "cell_type": "code",
   "execution_count": null,
   "id": "7fdf6aff",
   "metadata": {},
   "outputs": [],
   "source": []
  },
  {
   "cell_type": "code",
   "execution_count": 9,
   "id": "1ce6c24a",
   "metadata": {},
   "outputs": [
    {
     "data": {
      "text/plain": [
       "(630, 7)"
      ]
     },
     "execution_count": 9,
     "metadata": {},
     "output_type": "execute_result"
    }
   ],
   "source": [
    "# Split in train and test sets\n",
    "X_train, X_test, y_train, y_test = train_test_split(X, y, test_size=0.3, random_state=0)\n",
    "X_train.shape"
   ]
  },
  {
   "cell_type": "code",
   "execution_count": 10,
   "id": "31e8524f",
   "metadata": {},
   "outputs": [],
   "source": [
    "# Create the instance of the scaler\n",
    "scaler = StandardScaler()\n",
    "# Transform the inputs X\n",
    "X_train_scaled = pd.DataFrame(scaler.fit_transform(X_train))\n",
    "X_test_scaled = pd.DataFrame(scaler.transform(X_test))\n",
    "X_scaled = scaler.transform(X)\n",
    "# X_train_scaled.std(axis=0)"
   ]
  },
  {
   "cell_type": "code",
   "execution_count": 11,
   "id": "dd9270ea",
   "metadata": {},
   "outputs": [],
   "source": [
    "model = LogisticRegression(C=0.01, solver='liblinear',penalty='l1',max_iter=1000)\n",
    "model.fit(X_train_scaled, y_train)\n",
    "predictions = model.predict(X_test_scaled)"
   ]
  },
  {
   "cell_type": "markdown",
   "id": "39cbe84c",
   "metadata": {},
   "source": [
    "### Confusion Matrix -- Grid Search"
   ]
  },
  {
   "cell_type": "code",
   "execution_count": 12,
   "id": "430da6d7",
   "metadata": {},
   "outputs": [],
   "source": [
    "def create_cf(matrix):\n",
    "  cf_matrix = matrix\n",
    "  group_names = ['True Neg','False Pos','False Neg','True Pos']\n",
    "  group_counts = [\"{0:0.0f}\".format(value) for value in\n",
    "                  cf_matrix.flatten()]\n",
    "  group_percentages = [\"{0:.2%}\".format(value) for value in\n",
    "                      cf_matrix.flatten()/np.sum(cf_matrix)]\n",
    "  labels = [f\"{v1}\\n{v2}\\n{v3}\" for v1, v2, v3 in\n",
    "            zip(group_names,group_counts,group_percentages)]\n",
    "  labels = np.asarray(labels).reshape(2,2)\n",
    "  sns.heatmap(cf_matrix, annot=labels, fmt='', cmap='Blues')"
   ]
  },
  {
   "cell_type": "code",
   "execution_count": 13,
   "id": "0f91615e",
   "metadata": {
    "scrolled": false
   },
   "outputs": [
    {
     "data": {
      "image/png": "[encoded data removed]",
      "text/plain": [
       "<Figure size 500x500 with 2 Axes>"
      ]
     },
     "metadata": {},
     "output_type": "display_data"
    }
   ],
   "source": [
    "create_cf(confusion_matrix(y_test, predictions))"
   ]
  },
  {
   "cell_type": "markdown",
   "id": "fa0b6e60",
   "metadata": {},
   "source": [
    "### ROC curve"
   ]
  },
  {
   "cell_type": "code",
   "execution_count": 14,
   "id": "5c9d239f",
   "metadata": {},
   "outputs": [],
   "source": [
    "#ROC curves\n",
    "def roc_curves(X_train,X_test,y_train,y_test,LogReg):\n",
    "    # Scores for train set\n",
    "    scores_train = LogReg.predict_proba(X_train_scaled)[:, 1]\n",
    "    # Scores for test set\n",
    "    scores_test = LogReg.predict_proba(X_test_scaled)[:, 1]\n",
    "    # ROC Calc Train set\n",
    "    fpr_train, tpr_train, _ = roc_curve(y_train, scores_train)\n",
    "    # ROC Calc Test set\n",
    "    fpr_test, tpr_test, _ = roc_curve(y_test, scores_test)\n",
    "    # AUC Calc\n",
    "    auc_train = auc(fpr_train,tpr_train)\n",
    "    # AUC Calc\n",
    "    auc_test  = auc(fpr_test, tpr_test)\n",
    "\n",
    "    # Plotting\n",
    "    plt.plot(fpr_train,tpr_train, label='Train set | AUC of {:4.3f}'.format(auc_train));\n",
    "    plt.plot(fpr_test,tpr_test, label='Test set | AUC of {:4.3f}'.format(auc_test));\n",
    "    plt.plot([0,1], [0,1], color = 'k', linestyle = '--', label = 'Random | AUC of 0.5');\n",
    "    plt.ylim([0,1.0])\n",
    "    plt.xlim([0,1.0])\n",
    "    plt.title('Logistic Regression ROC curves', fontsize = 18)\n",
    "    plt.ylabel('True positive rate', fontsize = 18)\n",
    "    plt.xlabel('False positive rate', fontsize = 18)\n",
    "    plt.legend()\n",
    "    plt.show()"
   ]
  },
  {
   "cell_type": "code",
   "execution_count": 15,
   "id": "9398f8db",
   "metadata": {},
   "outputs": [
    {
     "data": {
      "image/png": "[encoded data removed]",
      "text/plain": [
       "<Figure size 500x500 with 1 Axes>"
      ]
     },
     "metadata": {},
     "output_type": "display_data"
    }
   ],
   "source": [
    "roc_curves(X_train_scaled,X_test_scaled,y_train,y_test,model)"
   ]
  },
  {
   "cell_type": "markdown",
   "id": "c9dbc996",
   "metadata": {},
   "source": [
    "### Learning curve"
   ]
  },
  {
   "cell_type": "code",
   "execution_count": 16,
   "id": "3ff9cc75",
   "metadata": {},
   "outputs": [],
   "source": [
    "def plot_learning_curve(estimator, title, X, y, ylim=None, cv=None, n_jobs=1,\\\n",
    "                        train_sizes=np.linspace(.1, 1.0, 5), scoring='accuracy'):\n",
    "    \n",
    "    plt.figure(figsize=(10,6))\n",
    "    plt.title(title)\n",
    "    \n",
    "    if ylim is not None:\n",
    "        plt.ylim(*ylim)\n",
    "        \n",
    "    plt.xlabel(\"Training examples\")\n",
    "    plt.ylabel(scoring)\n",
    "    \n",
    "    train_sizes, train_scores, test_scores = learning_curve(estimator, X, y, cv=cv, scoring=scoring, n_jobs=n_jobs, train_sizes=train_sizes)\n",
    "    train_scores_mean = np.mean(train_scores, axis=1)\n",
    "    train_scores_std = np.std(train_scores, axis=1)\n",
    "    test_scores_mean = np.mean(test_scores, axis=1)\n",
    "    test_scores_std = np.std(test_scores, axis=1)\n",
    "    \n",
    "    plt.grid()\n",
    "\n",
    "    plt.fill_between(train_sizes, train_scores_mean - train_scores_std,\\\n",
    "                     train_scores_mean + train_scores_std, alpha=0.1, \\\n",
    "                     color=\"r\")\n",
    "    plt.fill_between(train_sizes, test_scores_mean - test_scores_std,\\\n",
    "                     test_scores_mean + test_scores_std, alpha=0.1, color=\"g\")\n",
    "    \n",
    "    plt.plot(train_sizes, train_scores_mean, 'o-', color=\"r\",label=\"Training score\")\n",
    "    plt.plot(train_sizes, test_scores_mean, 'o-', color=\"g\", label=\"Cross-validation score\")\n",
    "    plt.legend(loc=\"best\")\n",
    "    \n",
    "    return plt"
   ]
  },
  {
   "cell_type": "code",
   "execution_count": 17,
   "id": "1fc01c71",
   "metadata": {},
   "outputs": [
    {
     "data": {
      "text/plain": [
       "<module 'matplotlib.pyplot' from '/Users/tongfeili/opt/anaconda3/lib/python3.9/site-packages/matplotlib/pyplot.py'>"
      ]
     },
     "execution_count": 17,
     "metadata": {},
     "output_type": "execute_result"
    },
    {
     "data": {
      "image/png": "[encoded data removed]",
      "text/plain": [
       "<Figure size 1000x600 with 1 Axes>"
      ]
     },
     "metadata": {},
     "output_type": "display_data"
    }
   ],
   "source": [
    "plot_learning_curve(model,'Logistic Regression', X_scaled, y, cv=5)"
   ]
  },
  {
   "cell_type": "code",
   "execution_count": null,
   "id": "1148038a",
   "metadata": {},
   "outputs": [],
   "source": []
  },
  {
   "cell_type": "code",
   "execution_count": null,
   "id": "d3ccda6b",
   "metadata": {},
   "outputs": [],
   "source": []
  },
  {
   "cell_type": "code",
   "execution_count": 18,
   "id": "df8966c6",
   "metadata": {},
   "outputs": [],
   "source": [
    "###### replace with Jason code #####"
   ]
  },
  {
   "cell_type": "code",
   "execution_count": 19,
   "id": "d29d0bed",
   "metadata": {},
   "outputs": [
    {
     "data": {
      "text/html": [
       "<div>\n",
       "<style scoped>\n",
       "    .dataframe tbody tr th:only-of-type {\n",
       "        vertical-align: middle;\n",
       "    }\n",
       "\n",
       "    .dataframe tbody tr th {\n",
       "        vertical-align: top;\n",
       "    }\n",
       "\n",
       "    .dataframe thead th {\n",
       "        text-align: right;\n",
       "    }\n",
       "</style>\n",
       "<table border=\"1\" class=\"dataframe\">\n",
       "  <thead>\n",
       "    <tr style=\"text-align: right;\">\n",
       "      <th></th>\n",
       "      <th>intercept</th>\n",
       "      <th>Area</th>\n",
       "      <th>MajorAxisLength</th>\n",
       "      <th>MinorAxisLength</th>\n",
       "      <th>Eccentricity</th>\n",
       "      <th>ConvexArea</th>\n",
       "      <th>Extent</th>\n",
       "      <th>Perimeter</th>\n",
       "    </tr>\n",
       "  </thead>\n",
       "  <tbody>\n",
       "    <tr>\n",
       "      <th>0</th>\n",
       "      <td>1.0</td>\n",
       "      <td>87524</td>\n",
       "      <td>442.246011</td>\n",
       "      <td>253.291155</td>\n",
       "      <td>0.819738</td>\n",
       "      <td>90546</td>\n",
       "      <td>0.758651</td>\n",
       "      <td>1184.040</td>\n",
       "    </tr>\n",
       "    <tr>\n",
       "      <th>1</th>\n",
       "      <td>1.0</td>\n",
       "      <td>75166</td>\n",
       "      <td>406.690687</td>\n",
       "      <td>243.032436</td>\n",
       "      <td>0.801805</td>\n",
       "      <td>78789</td>\n",
       "      <td>0.684130</td>\n",
       "      <td>1121.786</td>\n",
       "    </tr>\n",
       "    <tr>\n",
       "      <th>2</th>\n",
       "      <td>1.0</td>\n",
       "      <td>90856</td>\n",
       "      <td>442.267048</td>\n",
       "      <td>266.328318</td>\n",
       "      <td>0.798354</td>\n",
       "      <td>93717</td>\n",
       "      <td>0.637613</td>\n",
       "      <td>1208.575</td>\n",
       "    </tr>\n",
       "    <tr>\n",
       "      <th>3</th>\n",
       "      <td>1.0</td>\n",
       "      <td>45928</td>\n",
       "      <td>286.540559</td>\n",
       "      <td>208.760042</td>\n",
       "      <td>0.684989</td>\n",
       "      <td>47336</td>\n",
       "      <td>0.699599</td>\n",
       "      <td>844.162</td>\n",
       "    </tr>\n",
       "    <tr>\n",
       "      <th>4</th>\n",
       "      <td>1.0</td>\n",
       "      <td>79408</td>\n",
       "      <td>352.190770</td>\n",
       "      <td>290.827533</td>\n",
       "      <td>0.564011</td>\n",
       "      <td>81463</td>\n",
       "      <td>0.792772</td>\n",
       "      <td>1073.251</td>\n",
       "    </tr>\n",
       "    <tr>\n",
       "      <th>...</th>\n",
       "      <td>...</td>\n",
       "      <td>...</td>\n",
       "      <td>...</td>\n",
       "      <td>...</td>\n",
       "      <td>...</td>\n",
       "      <td>...</td>\n",
       "      <td>...</td>\n",
       "      <td>...</td>\n",
       "    </tr>\n",
       "    <tr>\n",
       "      <th>895</th>\n",
       "      <td>1.0</td>\n",
       "      <td>83248</td>\n",
       "      <td>430.077308</td>\n",
       "      <td>247.838695</td>\n",
       "      <td>0.817263</td>\n",
       "      <td>85839</td>\n",
       "      <td>0.668793</td>\n",
       "      <td>1129.072</td>\n",
       "    </tr>\n",
       "    <tr>\n",
       "      <th>896</th>\n",
       "      <td>1.0</td>\n",
       "      <td>87350</td>\n",
       "      <td>440.735698</td>\n",
       "      <td>259.293149</td>\n",
       "      <td>0.808629</td>\n",
       "      <td>90899</td>\n",
       "      <td>0.636476</td>\n",
       "      <td>1214.252</td>\n",
       "    </tr>\n",
       "    <tr>\n",
       "      <th>897</th>\n",
       "      <td>1.0</td>\n",
       "      <td>99657</td>\n",
       "      <td>431.706981</td>\n",
       "      <td>298.837323</td>\n",
       "      <td>0.721684</td>\n",
       "      <td>106264</td>\n",
       "      <td>0.741099</td>\n",
       "      <td>1292.828</td>\n",
       "    </tr>\n",
       "    <tr>\n",
       "      <th>898</th>\n",
       "      <td>1.0</td>\n",
       "      <td>93523</td>\n",
       "      <td>476.344094</td>\n",
       "      <td>254.176054</td>\n",
       "      <td>0.845739</td>\n",
       "      <td>97653</td>\n",
       "      <td>0.658798</td>\n",
       "      <td>1258.548</td>\n",
       "    </tr>\n",
       "    <tr>\n",
       "      <th>899</th>\n",
       "      <td>1.0</td>\n",
       "      <td>85609</td>\n",
       "      <td>512.081774</td>\n",
       "      <td>215.271976</td>\n",
       "      <td>0.907345</td>\n",
       "      <td>89197</td>\n",
       "      <td>0.632020</td>\n",
       "      <td>1272.862</td>\n",
       "    </tr>\n",
       "  </tbody>\n",
       "</table>\n",
       "<p>900 rows × 8 columns</p>\n",
       "</div>"
      ],
      "text/plain": [
       "     intercept   Area  MajorAxisLength  MinorAxisLength  Eccentricity  \\\n",
       "0          1.0  87524       442.246011       253.291155      0.819738   \n",
       "1          1.0  75166       406.690687       243.032436      0.801805   \n",
       "2          1.0  90856       442.267048       266.328318      0.798354   \n",
       "3          1.0  45928       286.540559       208.760042      0.684989   \n",
       "4          1.0  79408       352.190770       290.827533      0.564011   \n",
       "..         ...    ...              ...              ...           ...   \n",
       "895        1.0  83248       430.077308       247.838695      0.817263   \n",
       "896        1.0  87350       440.735698       259.293149      0.808629   \n",
       "897        1.0  99657       431.706981       298.837323      0.721684   \n",
       "898        1.0  93523       476.344094       254.176054      0.845739   \n",
       "899        1.0  85609       512.081774       215.271976      0.907345   \n",
       "\n",
       "     ConvexArea    Extent  Perimeter  \n",
       "0         90546  0.758651   1184.040  \n",
       "1         78789  0.684130   1121.786  \n",
       "2         93717  0.637613   1208.575  \n",
       "3         47336  0.699599    844.162  \n",
       "4         81463  0.792772   1073.251  \n",
       "..          ...       ...        ...  \n",
       "895       85839  0.668793   1129.072  \n",
       "896       90899  0.636476   1214.252  \n",
       "897      106264  0.741099   1292.828  \n",
       "898       97653  0.658798   1258.548  \n",
       "899       89197  0.632020   1272.862  \n",
       "\n",
       "[900 rows x 8 columns]"
      ]
     },
     "execution_count": 19,
     "metadata": {},
     "output_type": "execute_result"
    }
   ],
   "source": [
    "XX = pd.DataFrame(np.ones(900),columns=['intercept'])\n",
    "X_in = pd.concat([XX,pd.DataFrame(X)], axis=1)\n",
    "X_in"
   ]
  },
  {
   "cell_type": "code",
   "execution_count": null,
   "id": "330a8c86",
   "metadata": {},
   "outputs": [],
   "source": []
  },
  {
   "cell_type": "markdown",
   "id": "295932c8",
   "metadata": {},
   "source": [
    "## Model tunning\n",
    "### Direct Method"
   ]
  },
  {
   "cell_type": "code",
   "execution_count": 20,
   "id": "8681c291",
   "metadata": {},
   "outputs": [
    {
     "data": {
      "text/plain": [
       "(630, 8)"
      ]
     },
     "execution_count": 20,
     "metadata": {},
     "output_type": "execute_result"
    }
   ],
   "source": [
    "X_train, X_test, y_train, y_test = train_test_split(X_in, y, test_size=0.3, random_state=0)\n",
    "X_train.shape"
   ]
  },
  {
   "cell_type": "code",
   "execution_count": 21,
   "id": "70d84600",
   "metadata": {},
   "outputs": [],
   "source": [
    "# Create the instance of the scaler\n",
    "scaler = StandardScaler()\n",
    "# Transform the inputs X\n",
    "X_train_scaled = pd.DataFrame(scaler.fit_transform(X_train))\n",
    "X_test_scaled = pd.DataFrame(scaler.transform(X_test))\n",
    "X_scaled = scaler.transform(X_in)\n",
    "# X_train_scaled.mean(axis=0)"
   ]
  },
  {
   "cell_type": "code",
   "execution_count": 22,
   "id": "8113ce28",
   "metadata": {
    "scrolled": true
   },
   "outputs": [],
   "source": [
    "import cvxpy as cp\n",
    "\n",
    "beta = cp.Variable(8)\n",
    "lambd = cp.Parameter(nonneg=True)\n",
    "cost_function = cp.sum(\n",
    "    cp.multiply(y_train, X_train_scaled.values @ beta) - cp.logistic(X_train_scaled.values @ beta)\n",
    ")\n",
    "problem = cp.Problem(cp.Minimize(-cost_function/810 + lambd * cp.norm(beta, 1)))\n",
    "\n",
    "def acc(scores, labels):\n",
    "    scores[scores > 0] = 1\n",
    "    scores[scores <= 0] = 0\n",
    "    return accuracy_score(labels, scores, normalize = True)\n",
    "    \n",
    "accc = np.zeros(50)\n",
    "lambda_vals = np.logspace(-2, -1, 50)\n",
    "beta_vals = []\n",
    "for i in range(50):\n",
    "    lambd.value = lambda_vals[i]\n",
    "    problem.solve()\n",
    "    accc[i] = acc((X_test_scaled.values @ beta).value, y_test)\n",
    "    beta_vals.append(beta.value)"
   ]
  },
  {
   "cell_type": "code",
   "execution_count": 23,
   "id": "8268fea8",
   "metadata": {},
   "outputs": [
    {
     "name": "stdout",
     "output_type": "stream",
     "text": [
      "C value at highest accuracy: 0.011513953993264475\n"
     ]
    }
   ],
   "source": [
    "print('C value at highest accuracy:',lambda_vals[np.argmax(accc)])"
   ]
  },
  {
   "cell_type": "code",
   "execution_count": 24,
   "id": "f50d0050",
   "metadata": {},
   "outputs": [
    {
     "name": "stdout",
     "output_type": "stream",
     "text": [
      "Highest accuracy: 0.8592592592592593\n"
     ]
    }
   ],
   "source": [
    "print('Highest accuracy:',max(accc))"
   ]
  },
  {
   "cell_type": "code",
   "execution_count": 25,
   "id": "8856219e",
   "metadata": {},
   "outputs": [
    {
     "data": {
      "text/plain": [
       "array([0.85555556, 0.85555556, 0.85185185, 0.85925926, 0.85925926,\n",
       "       0.85925926, 0.85925926, 0.85925926, 0.85925926, 0.85925926,\n",
       "       0.85925926, 0.85925926, 0.85925926, 0.85925926, 0.85925926,\n",
       "       0.85925926, 0.85925926, 0.85925926, 0.85925926, 0.85925926,\n",
       "       0.85925926, 0.85925926, 0.85555556, 0.85555556, 0.85925926,\n",
       "       0.85555556, 0.85185185, 0.85185185, 0.84444444, 0.83703704,\n",
       "       0.83703704, 0.83333333, 0.83333333, 0.83333333, 0.83333333,\n",
       "       0.83333333, 0.83333333, 0.82962963, 0.82962963, 0.82962963,\n",
       "       0.82962963, 0.83333333, 0.83333333, 0.83333333, 0.83333333,\n",
       "       0.83333333, 0.83333333, 0.83333333, 0.83333333, 0.83333333])"
      ]
     },
     "execution_count": 25,
     "metadata": {},
     "output_type": "execute_result"
    }
   ],
   "source": [
    "accc"
   ]
  },
  {
   "cell_type": "markdown",
   "id": "fdd4610f",
   "metadata": {},
   "source": [
    "### Confusion Matrix --  Direct Method"
   ]
  },
  {
   "cell_type": "code",
   "execution_count": 26,
   "id": "9d909f71",
   "metadata": {},
   "outputs": [
    {
     "data": {
      "image/png": "[encoded data removed]",
      "text/plain": [
       "<Figure size 500x500 with 2 Axes>"
      ]
     },
     "metadata": {},
     "output_type": "display_data"
    }
   ],
   "source": [
    "create_cf(confusion_matrix(y_test, ((X_test_scaled.values @ beta).value)>0))\n"
   ]
  },
  {
   "cell_type": "markdown",
   "id": "6cc086a7",
   "metadata": {},
   "source": [
    "## Bias Variance tradeoff and cross validation\n"
   ]
  },
  {
   "cell_type": "markdown",
   "id": "4420bccf",
   "metadata": {},
   "source": [
    "### Bias Variance tradeoff with CV=10"
   ]
  },
  {
   "cell_type": "code",
   "execution_count": 27,
   "id": "08739c54",
   "metadata": {},
   "outputs": [
    {
     "name": "stdout",
     "output_type": "stream",
     "text": [
      "{'C': 0.0037241379310344828, 'solver': 'liblinear'}\n",
      "Best Score: 89.889%(9.262%)\n",
      "\n",
      "The optimal log model uses C=0.0037241379310344828, and a liblinear solver, and has a cross validation score of 89.889% with a standard deviation of 9.262%\n"
     ]
    }
   ],
   "source": [
    "model = LogisticRegression()\n",
    "scaler = StandardScaler()\n",
    "kfold = KFold(n_splits=10)\n",
    "kfold.get_n_splits(X)\n",
    "\n",
    "best_model = model\n",
    "best_params = {}\n",
    "best_accuracy = 0\n",
    "best_std = 0\n",
    "\n",
    "bias_list = [] \n",
    "variance_list = [] \n",
    "Entropy_list = []\n",
    "\n",
    "for C in np.linspace(0.0035, 0.00375, 30):\n",
    "    for solver in ['liblinear','saga']:\n",
    "        \n",
    "        model = LogisticRegression(C=C, solver=solver,penalty='l1')\n",
    "        accuracy = np.zeros(10)\n",
    "        np_idx = 0\n",
    "        \n",
    "        Entropy_c = np.zeros(10)\n",
    "        bias_c = np.zeros(10)\n",
    "        variance_c = np.zeros(10)\n",
    "        \n",
    "        for train_idx, test_idx in kfold.split(X):\n",
    "            X_train, X_test = X.values[train_idx], X.values[test_idx]\n",
    "            y_train, y_test = y.values[train_idx], y.values[test_idx]\n",
    "\n",
    "            X_train = scaler.fit_transform(X_train)\n",
    "            X_test = scaler.transform(X_test)\n",
    "\n",
    "            model.fit(X_train, y_train)\n",
    "\n",
    "            predictions = model.predict(X_test)\n",
    "\n",
    "            ACC = accuracy_score(y_test, predictions, normalize = True)\n",
    "\n",
    "            accuracy[np_idx] = ACC*100\n",
    "            \n",
    "            np_idx += 1\n",
    "        \n",
    "        if np.mean(accuracy) > best_accuracy:\n",
    "            best_model = model\n",
    "            best_params = {'C':C, 'solver':solver}\n",
    "            best_accuracy = np.mean(accuracy)\n",
    "            best_std = np.std(accuracy)\n",
    "\n",
    "print (best_params)\n",
    "print (\"Best Score: {}%({}%)\".format(round(best_accuracy,3),round(best_std,3)))      \n",
    "\n",
    "print (\"\\nThe optimal log model uses C={}, and a {} solver, and has a cross validation score of {}% with a standard deviation of {}%\".format(best_params['C'],best_params['solver'],round(best_accuracy,3),round(best_std,3)))"
   ]
  },
  {
   "cell_type": "code",
   "execution_count": 28,
   "id": "93c42fdf",
   "metadata": {},
   "outputs": [
    {
     "name": "stdout",
     "output_type": "stream",
     "text": [
      "{'C': 0.0037241379310344828, 'solver': 'saga'}\n",
      "Best Score: 89.889%(9.262%)\n",
      "\n",
      "The optimal log model uses C=0.0037241379310344828, and a liblinear solver, and has a cross validation score of 89.889% with a standard deviation of 9.262%\n"
     ]
    }
   ],
   "source": [
    "model = LogisticRegression()\n",
    "scaler = StandardScaler()\n",
    "kfold = KFold(n_splits=10)\n",
    "kfold.get_n_splits(X)\n",
    "\n",
    "best_model = model\n",
    "best_params = {}\n",
    "best_accuracy = 0\n",
    "best_std = 0\n",
    "\n",
    "bias_list = [] \n",
    "variance_list = [] \n",
    "Entropy_list = []\n",
    "\n",
    "for C in np.linspace(0.0035, 0.00375, 30):\n",
    "    model = LogisticRegression(C=C, solver='liblinear',penalty='l1')\n",
    "    np_idx = 0\n",
    "        \n",
    "    accuracy = []\n",
    "    m = []\n",
    "    b = []\n",
    "    v = []\n",
    "        \n",
    "    for train_idx, test_idx in kfold.split(X):\n",
    "        X_train, X_test = X.values[train_idx], X.values[test_idx]\n",
    "        y_train, y_test = y.values[train_idx], y.values[test_idx]\n",
    "\n",
    "        X_train = scaler.fit_transform(X_train)\n",
    "        X_test = scaler.transform(X_test)\n",
    "\n",
    "        model.fit(X_train, y_train)\n",
    "\n",
    "        predictions = model.predict(X_test)\n",
    "\n",
    "        ACC = accuracy_score(y_test, predictions, normalize = True)\n",
    "\n",
    "        accuracy.append(ACC*100)\n",
    "        \n",
    "        m.append(log_loss(y_test,predictions)) \n",
    "        v.append(np.var(predictions)) \n",
    "        b.append(np.mean((y_test - predictions) ** 2) - np.var(predictions))\n",
    "            \n",
    "        np_idx += 1\n",
    "            \n",
    "        \n",
    "    bias_list.append(np.mean(b)) \n",
    "    variance_list.append(np.mean(v))\n",
    "    Entropy_list.append(np.mean(m))\n",
    "        \n",
    "    if np.mean(accuracy) > best_accuracy:\n",
    "        best_model = model\n",
    "        best_params = {'C':C, 'solver':solver}\n",
    "        best_accuracy = np.mean(accuracy)\n",
    "        best_std = np.std(accuracy)\n",
    "\n",
    "print (best_params)\n",
    "print (\"Best Score: {}%({}%)\".format(round(best_accuracy,3),round(best_std,3)))      \n",
    "\n",
    "print (\"\\nThe optimal log model uses C={}, and a {} solver, and has a cross validation score of {}% with a standard deviation of {}%\".format(best_params['C'],'liblinear',round(best_accuracy,3),round(best_std,3)))"
   ]
  },
  {
   "cell_type": "code",
   "execution_count": 29,
   "id": "6ec93ded",
   "metadata": {},
   "outputs": [
    {
     "name": "stdout",
     "output_type": "stream",
     "text": [
      "{'C': 0.0037241379310344828, 'solver': 'saga'}\n",
      "Best Score: 89.889%(9.262%)\n",
      "\n",
      "The optimal log model uses C=0.0037241379310344828, and a liblinear solver, and has a cross validation score of 89.889% with a standard deviation of 9.262%\n"
     ]
    }
   ],
   "source": [
    "model = LogisticRegression()\n",
    "scaler = StandardScaler()\n",
    "kfold = KFold(n_splits=10)\n",
    "kfold.get_n_splits(X)\n",
    "\n",
    "best_model = model\n",
    "best_params = {}\n",
    "best_accuracy = 0\n",
    "best_std = 0\n",
    "\n",
    "bias_list = [] \n",
    "variance_list = [] \n",
    "Entropy_list = []\n",
    "\n",
    "for C in np.linspace(0.0035, 0.00375, 30):\n",
    "    model = LogisticRegression(C=C, solver='liblinear',penalty='l1')\n",
    "    np_idx = 0\n",
    "        \n",
    "    accuracy = []\n",
    "    m = []\n",
    "    b = []\n",
    "    v = []\n",
    "        \n",
    "    for train_idx, test_idx in kfold.split(X):\n",
    "        X_train, X_test = X.values[train_idx], X.values[test_idx]\n",
    "        y_train, y_test = y.values[train_idx], y.values[test_idx]\n",
    "\n",
    "        X_train = scaler.fit_transform(X_train)\n",
    "        X_test = scaler.transform(X_test)\n",
    "\n",
    "        model.fit(X_train, y_train)\n",
    "\n",
    "        predictions = model.predict(X_test)\n",
    "\n",
    "        ACC = accuracy_score(y_test, predictions, normalize = True)\n",
    "\n",
    "        accuracy.append(ACC*100)\n",
    "        \n",
    "        m.append(log_loss(y_test,predictions)) \n",
    "        v.append(np.var(predictions)) \n",
    "        b.append(np.mean((y_test - predictions) ** 2) - np.var(predictions))\n",
    "            \n",
    "        np_idx += 1\n",
    "            \n",
    "        \n",
    "    bias_list.append(np.mean(b)) \n",
    "    variance_list.append(np.mean(v))\n",
    "    Entropy_list.append(np.mean(m))\n",
    "        \n",
    "    if np.mean(accuracy) > best_accuracy:\n",
    "        best_model = model\n",
    "        best_params = {'C':C, 'solver':solver}\n",
    "        best_accuracy = np.mean(accuracy)\n",
    "        best_std = np.std(accuracy)\n",
    "\n",
    "print (best_params)\n",
    "print (\"Best Score: {}%({}%)\".format(round(best_accuracy,3),round(best_std,3)))      \n",
    "\n",
    "print (\"\\nThe optimal log model uses C={}, and a {} solver, and has a cross validation score of {}% with a standard deviation of {}%\".format(best_params['C'],'liblinear',round(best_accuracy,3),round(best_std,3)))"
   ]
  },
  {
   "cell_type": "markdown",
   "id": "9bb5efba",
   "metadata": {},
   "source": [
    "### Bias Variance tradeoff CV = 10"
   ]
  },
  {
   "cell_type": "code",
   "execution_count": 30,
   "id": "fd673d04",
   "metadata": {},
   "outputs": [
    {
     "data": {
      "image/png": "[encoded data removed]",
      "text/plain": [
       "<Figure size 600x500 with 1 Axes>"
      ]
     },
     "metadata": {},
     "output_type": "display_data"
    }
   ],
   "source": [
    "# Plot the bias-variance tradeoff for C graph. As model complexity increases, bias decrease and variances increase.\n",
    "import seaborn as sns\n",
    "\n",
    "fig = plt.figure(figsize=(6,5))\n",
    "# plt.semilogx([0.0035,0.005,0.007,0.01,0.03, 0.05,0.07,0.1,0.5,1], bias_list, label = 'Bias Squared')\n",
    "# plt.semilogx([0.0035,0.005,0.007,0.01,0.03, 0.05,0.07,0.1,0.5,1], variance_list, label = 'Variance')\n",
    "# plt.semilogx([0.0035,0.005,0.007,0.01,0.03, 0.05,0.07,0.1,0.5,1], Entropy_list, label = 'Entropy')\n",
    "x_smooth = np.linspace(0.0035, 0.00375, 30)\n",
    "x = np.linspace(0.0035, 0.00375, 30)\n",
    "bias_smooth = np.interp(x_smooth, x, bias_list)\n",
    "var_smooth = np.interp(x_smooth, x,variance_list)\n",
    "Entropy_smooth = np.interp(x_smooth, x,Entropy_list)\n",
    "plt.semilogx(x_smooth, bias_smooth, label = 'Bias Squared')\n",
    "plt.semilogx(x_smooth, var_smooth, label = 'Variance')\n",
    "plt.semilogx(x_smooth, Entropy_smooth, label = 'Entropy')\n",
    "plt.xlabel(\"Model Complexity\")\n",
    "plt.title(\"Bias-Variance Tradeoff  when CV = 10\")\n",
    "plt.ylabel(\"Error\")\n",
    "plt.legend(fontsize = 10)\n",
    "plt.xticks(rotation=45)\n",
    "plt.show()"
   ]
  },
  {
   "cell_type": "markdown",
   "id": "acd2256d",
   "metadata": {},
   "source": [
    "## Model tunning\n",
    "### Grid search - sklearn CV = 20"
   ]
  },
  {
   "cell_type": "code",
   "execution_count": 31,
   "id": "50f0b0a5",
   "metadata": {},
   "outputs": [
    {
     "name": "stdout",
     "output_type": "stream",
     "text": [
      "{'C': 0.0035775862068965518, 'solver': 'liblinear'}\n",
      "Best Score: 88.889%(10.141%)\n",
      "\n",
      "The optimal log model uses C=0.0035775862068965518, and a liblinear solver, and has a cross validation score of 88.889% with a standard deviation of 10.141%\n"
     ]
    }
   ],
   "source": [
    "model = LogisticRegression()\n",
    "scaler = StandardScaler()\n",
    "kfold = KFold(n_splits=15)\n",
    "kfold.get_n_splits(X)\n",
    "\n",
    "best_model = model\n",
    "best_params = {}\n",
    "best_accuracy = 0\n",
    "best_std = 0\n",
    "\n",
    "bias_list = [] \n",
    "variance_list = [] \n",
    "Entropy_list = []\n",
    "\n",
    "for C in np.linspace(0.0035, 0.00375, 30):\n",
    "    for solver in ['liblinear','saga']:\n",
    "        \n",
    "        model = LogisticRegression(C=C, solver=solver,penalty='l1')\n",
    "        accuracy = np.zeros(15)\n",
    "        np_idx = 0\n",
    "        \n",
    "        Entropy_c = np.zeros(15)\n",
    "        bias_c = np.zeros(15)\n",
    "        variance_c = np.zeros(15)\n",
    "        \n",
    "        for train_idx, test_idx in kfold.split(X):\n",
    "            X_train, X_test = X.values[train_idx], X.values[test_idx]\n",
    "            y_train, y_test = y.values[train_idx], y.values[test_idx]\n",
    "\n",
    "            X_train = scaler.fit_transform(X_train)\n",
    "            X_test = scaler.transform(X_test)\n",
    "\n",
    "            model.fit(X_train, y_train)\n",
    "\n",
    "            predictions = model.predict(X_test)\n",
    "\n",
    "            ACC = accuracy_score(y_test, predictions, normalize = True)\n",
    "\n",
    "            accuracy[np_idx] = ACC*100\n",
    "            \n",
    "            np_idx += 1\n",
    "        \n",
    "        if np.mean(accuracy) > best_accuracy:\n",
    "            best_model = model\n",
    "            best_params = {'C':C, 'solver':solver}\n",
    "            best_accuracy = np.mean(accuracy)\n",
    "            best_std = np.std(accuracy)\n",
    "\n",
    "print (best_params)\n",
    "print (\"Best Score: {}%({}%)\".format(round(best_accuracy,3),round(best_std,3)))      \n",
    "\n",
    "print (\"\\nThe optimal log model uses C={}, and a {} solver, and has a cross validation score of {}% with a standard deviation of {}%\".format(best_params['C'],best_params['solver'],round(best_accuracy,3),round(best_std,3)))"
   ]
  },
  {
   "cell_type": "code",
   "execution_count": 32,
   "id": "456d2f86",
   "metadata": {},
   "outputs": [
    {
     "name": "stdout",
     "output_type": "stream",
     "text": [
      "{'C': 0.0035775862068965518, 'solver': 'saga'}\n",
      "Best Score: 88.889%(10.141%)\n",
      "\n",
      "The optimal log model uses C=0.0035775862068965518, and a liblinear solver, and has a cross validation score of 88.889% with a standard deviation of 10.141%\n"
     ]
    }
   ],
   "source": [
    "model = LogisticRegression()\n",
    "scaler = StandardScaler()\n",
    "kfold = KFold(n_splits=15)\n",
    "kfold.get_n_splits(X)\n",
    "\n",
    "best_model = model\n",
    "best_params = {}\n",
    "best_accuracy = 0\n",
    "best_std = 0\n",
    "\n",
    "bias_list = [] \n",
    "variance_list = [] \n",
    "Entropy_list = []\n",
    "\n",
    "for C in np.linspace(0.0035, 0.00375, 30):\n",
    "    model = LogisticRegression(C=C, solver='liblinear',penalty='l1')\n",
    "    np_idx = 0\n",
    "        \n",
    "    accuracy = []\n",
    "    m = []\n",
    "    b = []\n",
    "    v = []\n",
    "        \n",
    "    for train_idx, test_idx in kfold.split(X):\n",
    "        X_train, X_test = X.values[train_idx], X.values[test_idx]\n",
    "        y_train, y_test = y.values[train_idx], y.values[test_idx]\n",
    "\n",
    "        X_train = scaler.fit_transform(X_train)\n",
    "        X_test = scaler.transform(X_test)\n",
    "\n",
    "        model.fit(X_train, y_train)\n",
    "\n",
    "        predictions = model.predict(X_test)\n",
    "\n",
    "        ACC = accuracy_score(y_test, predictions, normalize = True)\n",
    "\n",
    "        accuracy.append(ACC*100)\n",
    "        \n",
    "        m.append(log_loss(y_test,predictions)) \n",
    "        v.append(np.var(predictions)) \n",
    "        b.append(np.mean((y_test - predictions) ** 2) - np.var(predictions))\n",
    "            \n",
    "        np_idx += 1\n",
    "            \n",
    "        \n",
    "    bias_list.append(np.mean(b)) \n",
    "    variance_list.append(np.mean(v))\n",
    "    Entropy_list.append(np.mean(m))\n",
    "        \n",
    "    if np.mean(accuracy) > best_accuracy:\n",
    "        best_model = model\n",
    "        best_params = {'C':C, 'solver':solver}\n",
    "        best_accuracy = np.mean(accuracy)\n",
    "        best_std = np.std(accuracy)\n",
    "\n",
    "print (best_params)\n",
    "print (\"Best Score: {}%({}%)\".format(round(best_accuracy,3),round(best_std,3)))      \n",
    "\n",
    "print (\"\\nThe optimal log model uses C={}, and a {} solver, and has a cross validation score of {}% with a standard deviation of {}%\".format(best_params['C'],'liblinear',round(best_accuracy,3),round(best_std,3)))"
   ]
  },
  {
   "cell_type": "code",
   "execution_count": 33,
   "id": "107ed1f5",
   "metadata": {},
   "outputs": [
    {
     "name": "stdout",
     "output_type": "stream",
     "text": [
      "{'C': 0.0035775862068965518, 'solver': 'saga'}\n",
      "Best Score: 88.889%(10.141%)\n",
      "\n",
      "The optimal log model uses C=0.0035775862068965518, and a liblinear solver, and has a cross validation score of 88.889% with a standard deviation of 10.141%\n"
     ]
    }
   ],
   "source": [
    "model = LogisticRegression()\n",
    "scaler = StandardScaler()\n",
    "kfold = KFold(n_splits=15)\n",
    "kfold.get_n_splits(X)\n",
    "\n",
    "best_model = model\n",
    "best_params = {}\n",
    "best_accuracy = 0\n",
    "best_std = 0\n",
    "\n",
    "bias_list = [] \n",
    "variance_list = [] \n",
    "Entropy_list = []\n",
    "\n",
    "for C in np.linspace(0.0035, 0.00375, 30):\n",
    "    model = LogisticRegression(C=C, solver='liblinear',penalty='l1')\n",
    "    np_idx = 0\n",
    "        \n",
    "    accuracy = []\n",
    "    m = []\n",
    "    b = []\n",
    "    v = []\n",
    "        \n",
    "    for train_idx, test_idx in kfold.split(X):\n",
    "        X_train, X_test = X.values[train_idx], X.values[test_idx]\n",
    "        y_train, y_test = y.values[train_idx], y.values[test_idx]\n",
    "\n",
    "        X_train = scaler.fit_transform(X_train)\n",
    "        X_test = scaler.transform(X_test)\n",
    "\n",
    "        model.fit(X_train, y_train)\n",
    "\n",
    "        predictions = model.predict(X_test)\n",
    "\n",
    "        ACC = accuracy_score(y_test, predictions, normalize = True)\n",
    "\n",
    "        accuracy.append(ACC*100)\n",
    "        \n",
    "        m.append(log_loss(y_test,predictions)) \n",
    "        v.append(np.var(predictions)) \n",
    "        b.append(np.mean((y_test - predictions) ** 2) - np.var(predictions))\n",
    "            \n",
    "        np_idx += 1\n",
    "            \n",
    "        \n",
    "    bias_list.append(np.mean(b)) \n",
    "    variance_list.append(np.mean(v))\n",
    "    Entropy_list.append(np.mean(m))\n",
    "        \n",
    "    if np.mean(accuracy) > best_accuracy:\n",
    "        best_model = model\n",
    "        best_params = {'C':C, 'solver':solver}\n",
    "        best_accuracy = np.mean(accuracy)\n",
    "        best_std = np.std(accuracy)\n",
    "\n",
    "print (best_params)\n",
    "print (\"Best Score: {}%({}%)\".format(round(best_accuracy,3),round(best_std,3)))      \n",
    "\n",
    "print (\"\\nThe optimal log model uses C={}, and a {} solver, and has a cross validation score of {}% with a standard deviation of {}%\".format(best_params['C'],'liblinear',round(best_accuracy,3),round(best_std,3)))"
   ]
  },
  {
   "cell_type": "markdown",
   "id": "406692ee",
   "metadata": {},
   "source": [
    "### Bias Variance tradeoff CV = 15"
   ]
  },
  {
   "cell_type": "code",
   "execution_count": 34,
   "id": "e8cccd13",
   "metadata": {},
   "outputs": [
    {
     "data": {
      "image/png": "[encoded data removed]",
      "text/plain": [
       "<Figure size 600x500 with 1 Axes>"
      ]
     },
     "metadata": {},
     "output_type": "display_data"
    }
   ],
   "source": [
    "# Plot the bias-variance tradeoff for C graph. As model complexity increases, bias decrease and variances increase.\n",
    "import seaborn as sns\n",
    "\n",
    "fig = plt.figure(figsize=(6,5))\n",
    "# plt.semilogx([0.0035,0.005,0.007,0.01,0.03, 0.05,0.07,0.1,0.5,1], bias_list, label = 'Bias Squared')\n",
    "# plt.semilogx([0.0035,0.005,0.007,0.01,0.03, 0.05,0.07,0.1,0.5,1], variance_list, label = 'Variance')\n",
    "# plt.semilogx([0.0035,0.005,0.007,0.01,0.03, 0.05,0.07,0.1,0.5,1], Entropy_list, label = 'Entropy')\n",
    "x_smooth = np.linspace(0.0035, 0.00375, 30)\n",
    "x = np.linspace(0.0035, 0.00375, 30)\n",
    "bias_smooth = np.interp(x_smooth, x, bias_list)\n",
    "var_smooth = np.interp(x_smooth, x,variance_list)\n",
    "Entropy_smooth = np.interp(x_smooth, x,Entropy_list)\n",
    "plt.semilogx(x_smooth, bias_smooth, label = 'Bias Squared')\n",
    "plt.semilogx(x_smooth, var_smooth, label = 'Variance')\n",
    "plt.semilogx(x_smooth, Entropy_smooth, label = 'Entropy')\n",
    "plt.xlabel(\"Model Complexity\")\n",
    "plt.title(\"Bias-Variance Tradeoff when CV = 15\")\n",
    "plt.ylabel(\"Error\")\n",
    "plt.legend(fontsize = 10)\n",
    "plt.xticks(rotation=45)\n",
    "plt.show()"
   ]
  },
  {
   "cell_type": "markdown",
   "id": "2f6d8b94",
   "metadata": {},
   "source": [
    "## Model tunning\n",
    "### Grid search - sklearn CV = 8"
   ]
  },
  {
   "cell_type": "code",
   "execution_count": 35,
   "id": "3de96829",
   "metadata": {},
   "outputs": [
    {
     "name": "stdout",
     "output_type": "stream",
     "text": [
      "{'C': 0.003732758620689655, 'solver': 'liblinear'}\n",
      "Best Score: 27.813%(42.819%)\n",
      "\n",
      "The optimal log model uses C=0.003732758620689655, and a liblinear solver, and has a cross validation score of 27.813% with a standard deviation of 42.819%\n"
     ]
    }
   ],
   "source": [
    "model = LogisticRegression()\n",
    "scaler = StandardScaler()\n",
    "kfold = KFold(n_splits=8)\n",
    "kfold.get_n_splits(X)\n",
    "\n",
    "best_model = model\n",
    "best_params = {}\n",
    "best_accuracy = 0\n",
    "best_std = 0\n",
    "\n",
    "bias_list = [] \n",
    "variance_list = [] \n",
    "Entropy_list = []\n",
    "\n",
    "for C in np.linspace(0.0035, 0.00375, 30):\n",
    "    for solver in ['liblinear','saga']:\n",
    "        \n",
    "        model = LogisticRegression(C=C, solver=solver,penalty='l1')\n",
    "        accuracy = np.zeros(20)\n",
    "        np_idx = 0\n",
    "        \n",
    "        Entropy_c = np.zeros(8)\n",
    "        bias_c = np.zeros(8)\n",
    "        variance_c = np.zeros(8)\n",
    "        \n",
    "        for train_idx, test_idx in kfold.split(X):\n",
    "            X_train, X_test = X.values[train_idx], X.values[test_idx]\n",
    "            y_train, y_test = y.values[train_idx], y.values[test_idx]\n",
    "\n",
    "            X_train = scaler.fit_transform(X_train)\n",
    "            X_test = scaler.transform(X_test)\n",
    "\n",
    "            model.fit(X_train, y_train)\n",
    "\n",
    "            predictions = model.predict(X_test)\n",
    "\n",
    "            ACC = accuracy_score(y_test, predictions, normalize = True)\n",
    "\n",
    "            accuracy[np_idx] = ACC*100\n",
    "            \n",
    "            np_idx += 1\n",
    "        \n",
    "        if np.mean(accuracy) > best_accuracy:\n",
    "            best_model = model\n",
    "            best_params = {'C':C, 'solver':solver}\n",
    "            best_accuracy = np.mean(accuracy)\n",
    "            best_std = np.std(accuracy)\n",
    "\n",
    "print (best_params)\n",
    "print (\"Best Score: {}%({}%)\".format(round(best_accuracy,3),round(best_std,3)))      \n",
    "\n",
    "print (\"\\nThe optimal log model uses C={}, and a {} solver, and has a cross validation score of {}% with a standard deviation of {}%\".format(best_params['C'],best_params['solver'],round(best_accuracy,3),round(best_std,3)))"
   ]
  },
  {
   "cell_type": "code",
   "execution_count": 36,
   "id": "ef015cb7",
   "metadata": {},
   "outputs": [
    {
     "name": "stdout",
     "output_type": "stream",
     "text": [
      "{'C': 0.003732758620689655, 'solver': 'saga'}\n",
      "Best Score: 69.533%(41.02%)\n",
      "\n",
      "The optimal log model uses C=0.003732758620689655, and a liblinear solver, and has a cross validation score of 69.533% with a standard deviation of 41.02%\n"
     ]
    }
   ],
   "source": [
    "model = LogisticRegression()\n",
    "scaler = StandardScaler()\n",
    "kfold = KFold(n_splits=8)\n",
    "kfold.get_n_splits(X)\n",
    "\n",
    "best_model = model\n",
    "best_params = {}\n",
    "best_accuracy = 0\n",
    "best_std = 0\n",
    "\n",
    "bias_list = [] \n",
    "variance_list = [] \n",
    "Entropy_list = []\n",
    "\n",
    "for C in np.linspace(0.0035, 0.00375, 30):\n",
    "    model = LogisticRegression(C=C, solver='liblinear',penalty='l1')\n",
    "    np_idx = 0\n",
    "        \n",
    "    accuracy = []\n",
    "    m = []\n",
    "    b = []\n",
    "    v = []\n",
    "        \n",
    "    for train_idx, test_idx in kfold.split(X):\n",
    "        X_train, X_test = X.values[train_idx], X.values[test_idx]\n",
    "        y_train, y_test = y.values[train_idx], y.values[test_idx]\n",
    "\n",
    "        X_train = scaler.fit_transform(X_train)\n",
    "        X_test = scaler.transform(X_test)\n",
    "\n",
    "        model.fit(X_train, y_train)\n",
    "\n",
    "        predictions = model.predict(X_test)\n",
    "\n",
    "        ACC = accuracy_score(y_test, predictions, normalize = True)\n",
    "\n",
    "        accuracy.append(ACC*100)\n",
    "        \n",
    "        m.append(log_loss(y_test,predictions)) \n",
    "        v.append(np.var(predictions)) \n",
    "        b.append(np.mean((y_test - predictions) ** 2) - np.var(predictions))\n",
    "            \n",
    "        np_idx += 1\n",
    "            \n",
    "        \n",
    "    bias_list.append(np.mean(b)) \n",
    "    variance_list.append(np.mean(v))\n",
    "    Entropy_list.append(np.mean(m))\n",
    "        \n",
    "    if np.mean(accuracy) > best_accuracy:\n",
    "        best_model = model\n",
    "        best_params = {'C':C, 'solver':solver}\n",
    "        best_accuracy = np.mean(accuracy)\n",
    "        best_std = np.std(accuracy)\n",
    "\n",
    "print (best_params)\n",
    "print (\"Best Score: {}%({}%)\".format(round(best_accuracy,3),round(best_std,3)))      \n",
    "\n",
    "print (\"\\nThe optimal log model uses C={}, and a {} solver, and has a cross validation score of {}% with a standard deviation of {}%\".format(best_params['C'],'liblinear',round(best_accuracy,3),round(best_std,3)))"
   ]
  },
  {
   "cell_type": "code",
   "execution_count": 37,
   "id": "11992725",
   "metadata": {},
   "outputs": [
    {
     "name": "stdout",
     "output_type": "stream",
     "text": [
      "{'C': 0.003732758620689655, 'solver': 'saga'}\n",
      "Best Score: 69.533%(41.02%)\n",
      "\n",
      "The optimal log model uses C=0.003732758620689655, and a liblinear solver, and has a cross validation score of 69.533% with a standard deviation of 41.02%\n"
     ]
    }
   ],
   "source": [
    "model = LogisticRegression()\n",
    "scaler = StandardScaler()\n",
    "kfold = KFold(n_splits=8)\n",
    "kfold.get_n_splits(X)\n",
    "\n",
    "best_model = model\n",
    "best_params = {}\n",
    "best_accuracy = 0\n",
    "best_std = 0\n",
    "\n",
    "bias_list = [] \n",
    "variance_list = [] \n",
    "Entropy_list = []\n",
    "\n",
    "for C in np.linspace(0.0035, 0.00375, 30):\n",
    "    model = LogisticRegression(C=C, solver='liblinear',penalty='l1')\n",
    "    np_idx = 0\n",
    "        \n",
    "    accuracy = []\n",
    "    m = []\n",
    "    b = []\n",
    "    v = []\n",
    "        \n",
    "    for train_idx, test_idx in kfold.split(X):\n",
    "        X_train, X_test = X.values[train_idx], X.values[test_idx]\n",
    "        y_train, y_test = y.values[train_idx], y.values[test_idx]\n",
    "\n",
    "        X_train = scaler.fit_transform(X_train)\n",
    "        X_test = scaler.transform(X_test)\n",
    "\n",
    "        model.fit(X_train, y_train)\n",
    "\n",
    "        predictions = model.predict(X_test)\n",
    "\n",
    "        ACC = accuracy_score(y_test, predictions, normalize = True)\n",
    "\n",
    "        accuracy.append(ACC*100)\n",
    "        \n",
    "        m.append(log_loss(y_test,predictions)) \n",
    "        v.append(np.var(predictions)) \n",
    "        b.append(np.mean((y_test - predictions) ** 2) - np.var(predictions))\n",
    "            \n",
    "        np_idx += 1\n",
    "            \n",
    "        \n",
    "    bias_list.append(np.mean(b)) \n",
    "    variance_list.append(np.mean(v))\n",
    "    Entropy_list.append(np.mean(m))\n",
    "        \n",
    "    if np.mean(accuracy) > best_accuracy:\n",
    "        best_model = model\n",
    "        best_params = {'C':C, 'solver':solver}\n",
    "        best_accuracy = np.mean(accuracy)\n",
    "        best_std = np.std(accuracy)\n",
    "\n",
    "print (best_params)\n",
    "print (\"Best Score: {}%({}%)\".format(round(best_accuracy,3),round(best_std,3)))      \n",
    "\n",
    "print (\"\\nThe optimal log model uses C={}, and a {} solver, and has a cross validation score of {}% with a standard deviation of {}%\".format(best_params['C'],'liblinear',round(best_accuracy,3),round(best_std,3)))"
   ]
  },
  {
   "cell_type": "markdown",
   "id": "902dd49c",
   "metadata": {},
   "source": [
    "### Bias Variance tradeoff CV = 8"
   ]
  },
  {
   "cell_type": "code",
   "execution_count": 38,
   "id": "7dd7a2dc",
   "metadata": {},
   "outputs": [
    {
     "data": {
      "image/png": "[encoded data removed]",
      "text/plain": [
       "<Figure size 600x500 with 1 Axes>"
      ]
     },
     "metadata": {},
     "output_type": "display_data"
    }
   ],
   "source": [
    "# Plot the bias-variance tradeoff for C graph. As model complexity increases, bias decrease and variances increase.\n",
    "import seaborn as sns\n",
    "\n",
    "fig = plt.figure(figsize=(6,5))\n",
    "# plt.semilogx([0.0035,0.005,0.007,0.01,0.03, 0.05,0.07,0.1,0.5,1], bias_list, label = 'Bias Squared')\n",
    "# plt.semilogx([0.0035,0.005,0.007,0.01,0.03, 0.05,0.07,0.1,0.5,1], variance_list, label = 'Variance')\n",
    "# plt.semilogx([0.0035,0.005,0.007,0.01,0.03, 0.05,0.07,0.1,0.5,1], Entropy_list, label = 'Entropy')\n",
    "x_smooth = np.linspace(0.0035, 0.00375, 30)\n",
    "x = np.linspace(0.0035, 0.00375, 30)\n",
    "bias_smooth = np.interp(x_smooth, x, bias_list)\n",
    "var_smooth = np.interp(x_smooth, x,variance_list)\n",
    "Entropy_smooth = np.interp(x_smooth, x,Entropy_list)\n",
    "plt.semilogx(x_smooth, bias_smooth, label = 'Bias Squared')\n",
    "plt.semilogx(x_smooth, var_smooth, label = 'Variance')\n",
    "plt.semilogx(x_smooth, Entropy_smooth, label = 'Entropy')\n",
    "plt.xlabel(\"Model Complexity\")\n",
    "plt.title(\"Bias-Variance Tradeoff when CV = 8\")\n",
    "plt.ylabel(\"Error\")\n",
    "plt.legend(fontsize = 10)\n",
    "plt.xticks(rotation=45)\n",
    "plt.show()"
   ]
  },
  {
   "cell_type": "code",
   "execution_count": null,
   "id": "1592d5f9",
   "metadata": {},
   "outputs": [],
   "source": []
  },
  {
   "cell_type": "code",
   "execution_count": null,
   "id": "daba087f",
   "metadata": {},
   "outputs": [],
   "source": []
  },
  {
   "cell_type": "code",
   "execution_count": null,
   "id": "69af2535",
   "metadata": {},
   "outputs": [],
   "source": []
  },
  {
   "cell_type": "code",
   "execution_count": null,
   "id": "8491136c",
   "metadata": {},
   "outputs": [],
   "source": []
  },
  {
   "cell_type": "code",
   "execution_count": null,
   "id": "4049861e",
   "metadata": {},
   "outputs": [],
   "source": []
  },
  {
   "cell_type": "code",
   "execution_count": null,
   "id": "c3bdb486",
   "metadata": {},
   "outputs": [],
   "source": []
  },
  {
   "cell_type": "code",
   "execution_count": null,
   "id": "f95ea9a0",
   "metadata": {},
   "outputs": [],
   "source": []
  },
  {
   "cell_type": "code",
   "execution_count": null,
   "id": "3b1c81be",
   "metadata": {},
   "outputs": [],
   "source": []
  }
 ],
 "metadata": {
  "kernelspec": {
   "display_name": "Python 3 (ipykernel)",
   "language": "python",
   "name": "python3"
  },
  "language_info": {
   "codemirror_mode": {
    "name": "ipython",
    "version": 3
   },
   "file_extension": ".py",
   "mimetype": "text/x-python",
   "name": "python",
   "nbconvert_exporter": "python",
   "pygments_lexer": "ipython3",
   "version": "3.9.12"
  }
 },
 "nbformat": 4,
 "nbformat_minor": 5
}
